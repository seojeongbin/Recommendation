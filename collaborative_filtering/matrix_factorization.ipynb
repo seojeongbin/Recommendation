{
 "cells": [
  {
   "cell_type": "markdown",
   "metadata": {},
   "source": [
    "### 잠재 요인 협업 필터링\n",
    "- 사용자-아이템 평점 matrix 속에 숨어 있는 잠재 요인을 추출하여 추천 \n",
    "- 사용자-아이템 간의 상호작용은, 사용자 벡터와 아이템 벡터의 내적으로 정의됨\n",
    "![matrix](./matrix.png)"
   ]
  },
  {
   "cell_type": "code",
   "execution_count": 1,
   "metadata": {},
   "outputs": [],
   "source": [
    "import torch\n",
    "from torch import nn\n",
    "from torch.utils.data import DataLoader\n",
    "from torchvision import datasets\n",
    "from torchvision.transforms import ToTensor, Lambda"
   ]
  },
  {
   "cell_type": "code",
   "execution_count": null,
   "metadata": {},
   "outputs": [],
   "source": [
    "# 위를 바탕으로 모델 정의하기\n",
    "class GMF(nn.Module):\n",
    "    # def __init__(self) :\n",
    "    def __init__(self, user_num, item_num, factor_num, num_layers, dropout, model,):\n",
    "        super(GMF, self).__init__()\n",
    "        self.dropout = dropout\n",
    "        self.model = model\n",
    "        \n",
    "        # 임베딩 저장공간 확보 : num_embeddings, embedding_dim\n",
    "        self.embed_user_GMF = nn.Embedding(user_num, factor_num)\n",
    "        self.embed_item_GMF = nn.Embedding(item_num, factor_num)\n",
    "        predict_size = factor_num\n",
    "        \n",
    "        self.predict_layer = nn.Linear(predict_size, 1)\n",
    "        self._init_weight_()\n",
    "        \n",
    "    def _init_weight_(self):\n",
    "        # weight 초기화\n",
    "        nn.init.normal_(self.embed_user_GMF.weight, std=0.01)\n",
    "        nn.init.normal_(self.embed_item_GMF.weight, std=0.01)\n",
    "        nn.init.kaiming_uniform_(self.predict_layer.weight, a=1, nonlinearity=\"sigmoid\")\n",
    "        \n",
    "        # bias 초기화\n",
    "        for m in self.modules():\n",
    "            if isinstance(m, nn.Linear) and m.bias is not None:\n",
    "                m.bias.data.zero_()\n",
    "    \n",
    "    def forward(self, user, item):\n",
    "        embed_user_GMF = self.embed_user_GMF(user)\n",
    "        embed_item_GMF = self.embed_item_GMF(item)\n",
    "        output_GMF = embed_user_GMF * embed_item_GMF\n",
    "        concat = output_GMF\n",
    "        \n",
    "        prediction = self.predict_layer(concat)\n",
    "        return prediction.view(-1)\n",
    "        "
   ]
  },
  {
   "cell_type": "markdown",
   "metadata": {},
   "source": [
    "- nn.Embedding : 정수나 단어를 one hot 으로 encoding하면 대부분이 0인(sparse) 공간낭비. 이거를 연속적인 실수로 표현하게 하는 역할\n",
    "    - (임베딩할 단어 수, 임베딩할 차원)\n",
    "    - 결과는 .weight 하면 할당된 layer를 볼 수 있음\n",
    "- nn.init.normal : layer의 값들을 다 초기화\n",
    "- nn.Linear(x_dim, y_dim) : 입력된 x차원에 따라 y차원으로 선형회귀\n",
    "- view()는 tensor 행렬의 shape을 바꿔주는 역할임"
   ]
  }
 ],
 "metadata": {
  "kernelspec": {
   "display_name": "Python 3.8.13 ('kotorch')",
   "language": "python",
   "name": "python3"
  },
  "language_info": {
   "codemirror_mode": {
    "name": "ipython",
    "version": 3
   },
   "file_extension": ".py",
   "mimetype": "text/x-python",
   "name": "python",
   "nbconvert_exporter": "python",
   "pygments_lexer": "ipython3",
   "version": "3.8.13"
  },
  "orig_nbformat": 4,
  "vscode": {
   "interpreter": {
    "hash": "e394b0e5950b2ed9ac02d3d0f43da50df004fa03f183c9ffe2862d4a06a95d21"
   }
  }
 },
 "nbformat": 4,
 "nbformat_minor": 2
}
